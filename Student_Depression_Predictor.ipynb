{
  "nbformat": 4,
  "nbformat_minor": 0,
  "metadata": {
    "colab": {
      "provenance": [],
      "authorship_tag": "ABX9TyOHvNh/OPr86TntgArMYnwW",
      "include_colab_link": true
    },
    "kernelspec": {
      "name": "python3",
      "display_name": "Python 3"
    },
    "language_info": {
      "name": "python"
    }
  },
  "cells": [
    {
      "cell_type": "markdown",
      "metadata": {
        "id": "view-in-github",
        "colab_type": "text"
      },
      "source": [
        "<a href=\"https://colab.research.google.com/github/Gul-Fatima/Data-Science/blob/main/Student_Depression_Predictor.ipynb\" target=\"_parent\"><img src=\"https://colab.research.google.com/assets/colab-badge.svg\" alt=\"Open In Colab\"/></a>"
      ]
    },
    {
      "cell_type": "markdown",
      "source": [
        "Objectives\n",
        "\n",
        "* Understand Trends: To identify patterns and factors that can cause depression in stufents\n",
        "* Analyze Factor: Evaluate the influence of certain factors such as academic and work pressure, sleep duration, dietary habits, thoughts of suicide and family history of mentall illness\n",
        "* Predictive Modeling: Build a machine learning model to predict the chance of depression among students based on the given categories\n",
        "* Solutions: To provide useful insights and solutions that may help educators or students to supoort student"
      ],
      "metadata": {
        "id": "Z0iTEPFMZPcM"
      }
    },
    {
      "cell_type": "code",
      "execution_count": null,
      "metadata": {
        "id": "4q29CNUeOiy0"
      },
      "outputs": [],
      "source": [
        "import numpy as np\n",
        "import pandas as pd\n",
        "import matplotlib as plt\n",
        "import seaborn as sns\n",
        "\n",
        "print(f\"Numpy version: {np.__version__}\")\n",
        "print(f\"Pandas version: {pd.__version__}\")\n",
        "print(f\"Matplotlib version: {plt.__version__}\")\n",
        "print(f\"Seaborn version: {sns.__version__}\")"
      ]
    },
    {
      "cell_type": "code",
      "source": [
        "df = pd.read_csv('sdd.csv')\n",
        "df.head()"
      ],
      "metadata": {
        "id": "w6AQX0hcO8dp"
      },
      "execution_count": null,
      "outputs": []
    },
    {
      "cell_type": "markdown",
      "source": [
        "## Data Analysis"
      ],
      "metadata": {
        "id": "05XYyYPHXMH2"
      }
    },
    {
      "cell_type": "code",
      "source": [
        "df.shape"
      ],
      "metadata": {
        "id": "kRYeBOfSXp2l"
      },
      "execution_count": null,
      "outputs": []
    },
    {
      "cell_type": "code",
      "source": [
        "df.info()"
      ],
      "metadata": {
        "id": "yvKm5pk3XBtx"
      },
      "execution_count": null,
      "outputs": []
    },
    {
      "cell_type": "code",
      "source": [
        "df.dtypes"
      ],
      "metadata": {
        "id": "J0QPd1Pyace9"
      },
      "execution_count": null,
      "outputs": []
    },
    {
      "cell_type": "code",
      "source": [
        "df.describe()"
      ],
      "metadata": {
        "id": "CEMPkZRsXQZ_"
      },
      "execution_count": null,
      "outputs": []
    },
    {
      "cell_type": "code",
      "source": [
        "df.isnull().sum()"
      ],
      "metadata": {
        "id": "9eKxmARnXVL5"
      },
      "execution_count": null,
      "outputs": []
    },
    {
      "cell_type": "code",
      "source": [
        "df.nunique()"
      ],
      "metadata": {
        "id": "Pw4o9_oYXmIT"
      },
      "execution_count": null,
      "outputs": []
    },
    {
      "cell_type": "code",
      "source": [
        "df.duplicated().sum()"
      ],
      "metadata": {
        "id": "p8OAt8KRXyxN"
      },
      "execution_count": null,
      "outputs": []
    },
    {
      "cell_type": "markdown",
      "source": [
        "**Analyzing City**"
      ],
      "metadata": {
        "id": "3GfNj8SlfPct"
      }
    },
    {
      "cell_type": "code",
      "source": [
        "unique_city = df['City'].unique()\n",
        "unique_city"
      ],
      "metadata": {
        "id": "t8mx1xOGYH31"
      },
      "execution_count": null,
      "outputs": []
    },
    {
      "cell_type": "code",
      "source": [
        "df['City'].value_counts()"
      ],
      "metadata": {
        "id": "hsFEckpBbxMa"
      },
      "execution_count": null,
      "outputs": []
    },
    {
      "cell_type": "code",
      "source": [
        "# Filter city names where count is greater than 100\n",
        "x = df['City'].value_counts()\n",
        "cities = x[x > 100].index.tolist()\n",
        "\n",
        "# Print the city names\n",
        "print(cities)\n",
        "len(cities)"
      ],
      "metadata": {
        "id": "UzEYAh5Mb13b"
      },
      "execution_count": null,
      "outputs": []
    },
    {
      "cell_type": "markdown",
      "source": [
        "**Analyzing Profession**"
      ],
      "metadata": {
        "id": "ojpnH9PffUzf"
      }
    },
    {
      "cell_type": "code",
      "source": [
        "df['Profession'].nunique()"
      ],
      "metadata": {
        "id": "qEUr3qBCfUbW"
      },
      "execution_count": null,
      "outputs": []
    },
    {
      "cell_type": "code",
      "source": [
        "df['Profession'].unique()"
      ],
      "metadata": {
        "id": "GBNN7bqafgQ-"
      },
      "execution_count": null,
      "outputs": []
    },
    {
      "cell_type": "markdown",
      "source": [
        "**Analyzing Sleep Duration**"
      ],
      "metadata": {
        "id": "jQ2hUIa2hJOi"
      }
    },
    {
      "cell_type": "code",
      "source": [
        "df['Sleep Duration'].unique()"
      ],
      "metadata": {
        "id": "r-6itIl8hSYh"
      },
      "execution_count": null,
      "outputs": []
    },
    {
      "cell_type": "code",
      "source": [
        "sleep = df['Sleep Duration'].value_counts()"
      ],
      "metadata": {
        "id": "tix_tToxpmhr"
      },
      "execution_count": null,
      "outputs": []
    },
    {
      "cell_type": "markdown",
      "source": [
        "**Analyzing Dietary Habits**"
      ],
      "metadata": {
        "id": "r3-X5OSjqg5A"
      }
    },
    {
      "cell_type": "code",
      "source": [
        "df['Dietary Habits'].nunique()"
      ],
      "metadata": {
        "id": "zci3t5UWqghT"
      },
      "execution_count": null,
      "outputs": []
    },
    {
      "cell_type": "code",
      "source": [
        "df['Dietary Habits'].unique()"
      ],
      "metadata": {
        "id": "Zp0GaObYqrf4"
      },
      "execution_count": null,
      "outputs": []
    },
    {
      "cell_type": "markdown",
      "source": [
        "## EDA"
      ],
      "metadata": {
        "id": "ZqSHqUaffA_N"
      }
    },
    {
      "cell_type": "code",
      "source": [
        "# Get the list of cities with more than 100 cases\n",
        "x = df['City'].value_counts()\n",
        "cities = x[x > 100].index.tolist()\n",
        "\n",
        "# Filter the dataframe to include only rows for these cities\n",
        "data = df[df['City'].isin(cities)]\n",
        "\n",
        "data.head()\n"
      ],
      "metadata": {
        "id": "93oBDxD4dC61"
      },
      "execution_count": null,
      "outputs": []
    },
    {
      "cell_type": "code",
      "source": [
        "data.shape"
      ],
      "metadata": {
        "id": "0JhRHxKMdwLy"
      },
      "execution_count": null,
      "outputs": []
    },
    {
      "cell_type": "markdown",
      "source": [
        "**Dropping Certain Columns:**"
      ],
      "metadata": {
        "id": "dL8QS710gNnl"
      }
    },
    {
      "cell_type": "code",
      "source": [
        "df = df.drop(\"id\", axis=1)\n",
        "df = df.drop(\"City\", axis=1)\n",
        "df = df.drop(\"Profession\", axis=1)\n",
        "df = df.drop(\"Degree\", axis=1)"
      ],
      "metadata": {
        "id": "ln5sjbaVd5Jm"
      },
      "execution_count": null,
      "outputs": []
    },
    {
      "cell_type": "markdown",
      "source": [],
      "metadata": {
        "id": "A78m-dnIos9m"
      }
    },
    {
      "cell_type": "code",
      "source": [
        "#Mapping Gender\n",
        "df[\"Gender\"] = df[\"Gender\"].str.replace(\"Female\", \"1\", regex=False)\n",
        "df[\"Gender\"] = df[\"Gender\"].str.replace(\"Male\", \"0\", regex=False).astype(int)"
      ],
      "metadata": {
        "id": "kGsVqAIBoraY"
      },
      "execution_count": null,
      "outputs": []
    },
    {
      "cell_type": "code",
      "source": [
        "#mapping Sleep Duration\n",
        "df[\"Sleep Duration\"] = df[\"Sleep Duration\"].str.replace(\"Less than 5 hours\", \"0\", regex=False)\n",
        "df[\"Sleep Duration\"] = df[\"Sleep Duration\"].str.replace(\"5-6 hours\", \"1\", regex=False)\n",
        "df[\"Sleep Duration\"] = df[\"Sleep Duration\"].str.replace(\"7-8 hours\", \"2\", regex=False)\n",
        "df[\"Sleep Duration\"] = df[\"Sleep Duration\"].str.replace(\"More than 8 hours\", \"3\", regex=False)\n",
        "df[\"Sleep Duration\"] = df[\"Sleep Duration\"].str.replace(\"Others\", \"4\", regex=False).astype(int)"
      ],
      "metadata": {
        "id": "RndZbgOLpAbc"
      },
      "execution_count": null,
      "outputs": []
    },
    {
      "cell_type": "code",
      "source": [
        "#Mapping Dietary Habits\n",
        "df[\"Dietary Habits\"] = df[\"Dietary Habits\"].str.replace(\"Unhealthy\", \"0\", regex=False)\n",
        "df[\"Dietary Habits\"] = df[\"Dietary Habits\"].str.replace(\"Moderate\", \"1\", regex=False)\n",
        "df[\"Dietary Habits\"] = df[\"Dietary Habits\"].str.replace(\"Healthy\", \"2\", regex=False)\n",
        "df[\"Dietary Habits\"] = df[\"Dietary Habits\"].str.replace(\"Others\", \"3\", regex=False).astype(int)"
      ],
      "metadata": {
        "id": "f99Z9533qVdu"
      },
      "execution_count": null,
      "outputs": []
    },
    {
      "cell_type": "code",
      "source": [
        "#Mapping Suicidal thoughts\n",
        "df[\"Have you ever had suicidal thoughts ?\"] = df[\"Have you ever had suicidal thoughts ?\"].str.replace(\"No\", \"0\", regex=False)\n",
        "df[\"Have you ever had suicidal thoughts ?\"] = df[\"Have you ever had suicidal thoughts ?\"].str.replace(\"Yes\", \"1\", regex=False).astype(int)"
      ],
      "metadata": {
        "id": "KH0VcUQtrH_z"
      },
      "execution_count": null,
      "outputs": []
    },
    {
      "cell_type": "code",
      "source": [
        "#Mapping Family History\n",
        "df[\"Family History of Mental Illness\"] = df[\"Family History of Mental Illness\"].str.replace(\"No\", \"0\", regex=False)\n",
        "df[\"Family History of Mental Illness\"] = df[\"Family History of Mental Illness\"].str.replace(\"Yes\", \"1\", regex=False).astype(int)"
      ],
      "metadata": {
        "id": "ZP5Hya3xtCt3"
      },
      "execution_count": null,
      "outputs": []
    },
    {
      "cell_type": "code",
      "source": [
        "# Remove extra white space found in the dataframe columns to avoid errors\n",
        "df.columns = df.columns.str.strip()"
      ],
      "metadata": {
        "id": "TSLcMmi4sDIw"
      },
      "execution_count": null,
      "outputs": []
    },
    {
      "cell_type": "code",
      "source": [
        "#Checking null values\n",
        "df.isnull().sum()"
      ],
      "metadata": {
        "id": "fjMG7GnDu4w6"
      },
      "execution_count": null,
      "outputs": []
    },
    {
      "cell_type": "code",
      "source": [
        "#Substituting null value with  mean values\n",
        "df['Financial Stress'] = df['Financial Stress'].fillna(df['Financial Stress'].mean())"
      ],
      "metadata": {
        "id": "vfeyMhYYvZPX"
      },
      "execution_count": null,
      "outputs": []
    },
    {
      "cell_type": "markdown",
      "source": [
        "### Re Analyzing dataset:\n",
        "* To avoid any inconsistency"
      ],
      "metadata": {
        "id": "oBEPIXbctykA"
      }
    },
    {
      "cell_type": "code",
      "source": [
        "df.info()"
      ],
      "metadata": {
        "id": "fz6TlhZxtfKO"
      },
      "execution_count": null,
      "outputs": []
    },
    {
      "cell_type": "code",
      "source": [
        "df.shape"
      ],
      "metadata": {
        "id": "OPYE8k1ftiP_"
      },
      "execution_count": null,
      "outputs": []
    },
    {
      "cell_type": "code",
      "source": [
        "df.describe()"
      ],
      "metadata": {
        "id": "9glQmK3wt7V2"
      },
      "execution_count": null,
      "outputs": []
    },
    {
      "cell_type": "code",
      "source": [
        "df.columns"
      ],
      "metadata": {
        "id": "vMyrYdkfui9q"
      },
      "execution_count": null,
      "outputs": []
    },
    {
      "cell_type": "code",
      "source": [
        "df.corr()"
      ],
      "metadata": {
        "id": "D-mjnjqAw9sd"
      },
      "execution_count": null,
      "outputs": []
    },
    {
      "cell_type": "code",
      "source": [
        "import matplotlib.pyplot as plt  # Import pyplot\n",
        "for i in df[:-1]:\n",
        "  plt.bar(i,df['Depression'])\n",
        "  plt.xlabel(i)\n",
        "  plt.ylabel('Depression')"
      ],
      "metadata": {
        "id": "k8PgIoMjxhsK"
      },
      "execution_count": null,
      "outputs": []
    },
    {
      "cell_type": "markdown",
      "source": [
        "## Preparing dataset for model"
      ],
      "metadata": {
        "id": "J-8GvJxcwtkN"
      }
    },
    {
      "cell_type": "code",
      "source": [],
      "metadata": {
        "id": "YGccFE8supm-"
      },
      "execution_count": null,
      "outputs": []
    }
  ]
}